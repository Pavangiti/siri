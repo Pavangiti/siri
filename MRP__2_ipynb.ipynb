{
  "nbformat": 4,
  "nbformat_minor": 0,
  "metadata": {
    "colab": {
      "provenance": []
    },
    "kernelspec": {
      "name": "python3",
      "display_name": "Python 3"
    },
    "language_info": {
      "name": "python"
    }
  },
  "cells": [
    {
      "cell_type": "code",
      "execution_count": 55,
      "metadata": {
        "colab": {
          "base_uri": "https://localhost:8080/",
          "height": 108
        },
        "id": "b0PeNlolxppk",
        "outputId": "00be0714-3453-4dac-fb82-16b8ee29ff4e"
      },
      "outputs": [
        {
          "output_type": "display_data",
          "data": {
            "text/plain": [
              "<IPython.core.display.HTML object>"
            ],
            "text/html": [
              "\n",
              "     <input type=\"file\" id=\"files-d6940aa9-e296-4e10-b7df-ea488db5ca37\" name=\"files[]\" multiple disabled\n",
              "        style=\"border:none\" />\n",
              "     <output id=\"result-d6940aa9-e296-4e10-b7df-ea488db5ca37\">\n",
              "      Upload widget is only available when the cell has been executed in the\n",
              "      current browser session. Please rerun this cell to enable.\n",
              "      </output>\n",
              "      <script>// Copyright 2017 Google LLC\n",
              "//\n",
              "// Licensed under the Apache License, Version 2.0 (the \"License\");\n",
              "// you may not use this file except in compliance with the License.\n",
              "// You may obtain a copy of the License at\n",
              "//\n",
              "//      http://www.apache.org/licenses/LICENSE-2.0\n",
              "//\n",
              "// Unless required by applicable law or agreed to in writing, software\n",
              "// distributed under the License is distributed on an \"AS IS\" BASIS,\n",
              "// WITHOUT WARRANTIES OR CONDITIONS OF ANY KIND, either express or implied.\n",
              "// See the License for the specific language governing permissions and\n",
              "// limitations under the License.\n",
              "\n",
              "/**\n",
              " * @fileoverview Helpers for google.colab Python module.\n",
              " */\n",
              "(function(scope) {\n",
              "function span(text, styleAttributes = {}) {\n",
              "  const element = document.createElement('span');\n",
              "  element.textContent = text;\n",
              "  for (const key of Object.keys(styleAttributes)) {\n",
              "    element.style[key] = styleAttributes[key];\n",
              "  }\n",
              "  return element;\n",
              "}\n",
              "\n",
              "// Max number of bytes which will be uploaded at a time.\n",
              "const MAX_PAYLOAD_SIZE = 100 * 1024;\n",
              "\n",
              "function _uploadFiles(inputId, outputId) {\n",
              "  const steps = uploadFilesStep(inputId, outputId);\n",
              "  const outputElement = document.getElementById(outputId);\n",
              "  // Cache steps on the outputElement to make it available for the next call\n",
              "  // to uploadFilesContinue from Python.\n",
              "  outputElement.steps = steps;\n",
              "\n",
              "  return _uploadFilesContinue(outputId);\n",
              "}\n",
              "\n",
              "// This is roughly an async generator (not supported in the browser yet),\n",
              "// where there are multiple asynchronous steps and the Python side is going\n",
              "// to poll for completion of each step.\n",
              "// This uses a Promise to block the python side on completion of each step,\n",
              "// then passes the result of the previous step as the input to the next step.\n",
              "function _uploadFilesContinue(outputId) {\n",
              "  const outputElement = document.getElementById(outputId);\n",
              "  const steps = outputElement.steps;\n",
              "\n",
              "  const next = steps.next(outputElement.lastPromiseValue);\n",
              "  return Promise.resolve(next.value.promise).then((value) => {\n",
              "    // Cache the last promise value to make it available to the next\n",
              "    // step of the generator.\n",
              "    outputElement.lastPromiseValue = value;\n",
              "    return next.value.response;\n",
              "  });\n",
              "}\n",
              "\n",
              "/**\n",
              " * Generator function which is called between each async step of the upload\n",
              " * process.\n",
              " * @param {string} inputId Element ID of the input file picker element.\n",
              " * @param {string} outputId Element ID of the output display.\n",
              " * @return {!Iterable<!Object>} Iterable of next steps.\n",
              " */\n",
              "function* uploadFilesStep(inputId, outputId) {\n",
              "  const inputElement = document.getElementById(inputId);\n",
              "  inputElement.disabled = false;\n",
              "\n",
              "  const outputElement = document.getElementById(outputId);\n",
              "  outputElement.innerHTML = '';\n",
              "\n",
              "  const pickedPromise = new Promise((resolve) => {\n",
              "    inputElement.addEventListener('change', (e) => {\n",
              "      resolve(e.target.files);\n",
              "    });\n",
              "  });\n",
              "\n",
              "  const cancel = document.createElement('button');\n",
              "  inputElement.parentElement.appendChild(cancel);\n",
              "  cancel.textContent = 'Cancel upload';\n",
              "  const cancelPromise = new Promise((resolve) => {\n",
              "    cancel.onclick = () => {\n",
              "      resolve(null);\n",
              "    };\n",
              "  });\n",
              "\n",
              "  // Wait for the user to pick the files.\n",
              "  const files = yield {\n",
              "    promise: Promise.race([pickedPromise, cancelPromise]),\n",
              "    response: {\n",
              "      action: 'starting',\n",
              "    }\n",
              "  };\n",
              "\n",
              "  cancel.remove();\n",
              "\n",
              "  // Disable the input element since further picks are not allowed.\n",
              "  inputElement.disabled = true;\n",
              "\n",
              "  if (!files) {\n",
              "    return {\n",
              "      response: {\n",
              "        action: 'complete',\n",
              "      }\n",
              "    };\n",
              "  }\n",
              "\n",
              "  for (const file of files) {\n",
              "    const li = document.createElement('li');\n",
              "    li.append(span(file.name, {fontWeight: 'bold'}));\n",
              "    li.append(span(\n",
              "        `(${file.type || 'n/a'}) - ${file.size} bytes, ` +\n",
              "        `last modified: ${\n",
              "            file.lastModifiedDate ? file.lastModifiedDate.toLocaleDateString() :\n",
              "                                    'n/a'} - `));\n",
              "    const percent = span('0% done');\n",
              "    li.appendChild(percent);\n",
              "\n",
              "    outputElement.appendChild(li);\n",
              "\n",
              "    const fileDataPromise = new Promise((resolve) => {\n",
              "      const reader = new FileReader();\n",
              "      reader.onload = (e) => {\n",
              "        resolve(e.target.result);\n",
              "      };\n",
              "      reader.readAsArrayBuffer(file);\n",
              "    });\n",
              "    // Wait for the data to be ready.\n",
              "    let fileData = yield {\n",
              "      promise: fileDataPromise,\n",
              "      response: {\n",
              "        action: 'continue',\n",
              "      }\n",
              "    };\n",
              "\n",
              "    // Use a chunked sending to avoid message size limits. See b/62115660.\n",
              "    let position = 0;\n",
              "    do {\n",
              "      const length = Math.min(fileData.byteLength - position, MAX_PAYLOAD_SIZE);\n",
              "      const chunk = new Uint8Array(fileData, position, length);\n",
              "      position += length;\n",
              "\n",
              "      const base64 = btoa(String.fromCharCode.apply(null, chunk));\n",
              "      yield {\n",
              "        response: {\n",
              "          action: 'append',\n",
              "          file: file.name,\n",
              "          data: base64,\n",
              "        },\n",
              "      };\n",
              "\n",
              "      let percentDone = fileData.byteLength === 0 ?\n",
              "          100 :\n",
              "          Math.round((position / fileData.byteLength) * 100);\n",
              "      percent.textContent = `${percentDone}% done`;\n",
              "\n",
              "    } while (position < fileData.byteLength);\n",
              "  }\n",
              "\n",
              "  // All done.\n",
              "  yield {\n",
              "    response: {\n",
              "      action: 'complete',\n",
              "    }\n",
              "  };\n",
              "}\n",
              "\n",
              "scope.google = scope.google || {};\n",
              "scope.google.colab = scope.google.colab || {};\n",
              "scope.google.colab._files = {\n",
              "  _uploadFiles,\n",
              "  _uploadFilesContinue,\n",
              "};\n",
              "})(self);\n",
              "</script> "
            ]
          },
          "metadata": {}
        },
        {
          "output_type": "stream",
          "name": "stdout",
          "text": [
            "Saving immunizations (2).csv to immunizations (2) (2).csv\n",
            "Saving patients (4).csv to patients (4) (2).csv\n"
          ]
        }
      ],
      "source": [
        "# Import necessary libraries\n",
        "import pandas as pd\n",
        "from google.colab import files\n",
        "\n",
        "# Upload multiple files at once\n",
        "uploaded = files.upload()"
      ]
    },
    {
      "cell_type": "code",
      "source": [
        "# Load datasets\n",
        "df_patient = pd.read_csv(\"patients (4).csv\")\n",
        "df_immunization = pd.read_csv(\"immunizations (2).csv\")"
      ],
      "metadata": {
        "id": "bs6sEiSUyJWy"
      },
      "execution_count": 56,
      "outputs": []
    },
    {
      "cell_type": "code",
      "source": [
        "print(df_patient['STATE'].value_counts())"
      ],
      "metadata": {
        "colab": {
          "base_uri": "https://localhost:8080/"
        },
        "id": "YsuKaSrYyW2f",
        "outputId": "3927c598-adef-4560-dc55-4e2baef65bb1"
      },
      "execution_count": 57,
      "outputs": [
        {
          "output_type": "stream",
          "name": "stdout",
          "text": [
            "STATE\n",
            "California    5674\n",
            "Name: count, dtype: int64\n"
          ]
        }
      ]
    },
    {
      "cell_type": "code",
      "source": [
        "# Ensuring Referential Integrity: Every Patient ID in immunization must exist in patient dataset\n",
        "missing_patients = df_immunization[~df_immunization['PATIENT'].isin(df_patient['Id'])]\n",
        "\n",
        "if missing_patients.empty:\n",
        "    print(\"✅ Referential integrity is maintained.\")\n",
        "else:\n",
        "    print(\"⚠️ Missing Patient_IDs in Patient table:\", missing_patients['PATIENT'].unique())"
      ],
      "metadata": {
        "colab": {
          "base_uri": "https://localhost:8080/"
        },
        "id": "dBDahAquBkww",
        "outputId": "87dcdbd2-d412-47fc-afa8-3ecfc643b963"
      },
      "execution_count": 58,
      "outputs": [
        {
          "output_type": "stream",
          "name": "stdout",
          "text": [
            "✅ Referential integrity is maintained.\n"
          ]
        }
      ]
    },
    {
      "cell_type": "code",
      "source": [
        "# Convert date columns to datetime format\n",
        "df_patient['BIRTHDATE'] = pd.to_datetime(df_patient['BIRTHDATE'], errors='coerce')\n",
        "df_patient['DEATHDATE'] = pd.to_datetime(df_patient['DEATHDATE'], errors='coerce')\n",
        "df_immunization['DATE'] = pd.to_datetime(df_immunization['DATE'], errors='coerce')"
      ],
      "metadata": {
        "id": "_7cuy6xSBo1f"
      },
      "execution_count": 59,
      "outputs": []
    },
    {
      "cell_type": "code",
      "source": [
        "# Check for invalid birthdates (Future dates)\n",
        "invalid_birthdates = df_patient[df_patient['BIRTHDATE'] > pd.to_datetime('today')]\n",
        "if not invalid_birthdates.empty:\n",
        "    print(\" Invalid birthdates found:\", invalid_birthdates)"
      ],
      "metadata": {
        "id": "0NeovCoQBrK_"
      },
      "execution_count": 60,
      "outputs": []
    },
    {
      "cell_type": "code",
      "source": [
        "# Calculate Age (Handling both living and deceased patients)\n",
        "current_date = pd.to_datetime('2025-02-09')  # Change to today's date\n",
        "df_patient['Age'] = df_patient.apply(\n",
        "    lambda row: (row['DEATHDATE'] - row['BIRTHDATE']).days // 365 if pd.notnull(row['DEATHDATE'])\n",
        "    else (current_date - row['BIRTHDATE']).days // 365,\n",
        "    axis=1\n",
        ")\n",
        "print(\" Patient ages calculated successfully.\")"
      ],
      "metadata": {
        "colab": {
          "base_uri": "https://localhost:8080/"
        },
        "id": "X8WqAjQqBtok",
        "outputId": "4b7fcf42-76aa-4aa6-a9d5-c6af22712455"
      },
      "execution_count": 61,
      "outputs": [
        {
          "output_type": "stream",
          "name": "stdout",
          "text": [
            " Patient ages calculated successfully.\n"
          ]
        }
      ]
    },
    {
      "cell_type": "code",
      "source": [
        "# Define target vaccines as a set of exact string values\n",
        "target_vaccines = {\n",
        "    'Influenza  seasonal  injectable  preservative free',\n",
        "    'COVID-19 vaccine  vector-nr  rS-Ad26  PF  0.5 mL',\n",
        "    'Hib (PRP-OMP)',\n",
        "    'MMR',\n",
        "    'DTaP',\n",
        "    'meningococcal MCV4P',\n",
        "    \"COVID-19 mRNA LNP-S PF 30 mcg/0.3 mL dose\",\n",
        "    \"COVID-19 mRNA LNP-S PF 100 mcg/0.5mL dose or 50 mcg/0.25mL dose\"\n",
        "}"
      ],
      "metadata": {
        "id": "7iLa2uh8ffZx"
      },
      "execution_count": 62,
      "outputs": []
    },
    {
      "cell_type": "code",
      "source": [
        "# Define target vaccines as a set of numeric values from your dataset\n",
        "target_vaccines = {88, 118, 135, 140, 150, 155, 160, 165}\n"
      ],
      "metadata": {
        "id": "_xtdWtmxCHF0"
      },
      "execution_count": 63,
      "outputs": []
    },
    {
      "cell_type": "code",
      "source": [
        "# Identify patients who have received at least one of the target vaccines\n",
        "df_immunization['Vaccinated'] = df_immunization['CODE'].apply(lambda x: 'Yes' if x in target_vaccines else 'No')"
      ],
      "metadata": {
        "id": "0-S09xc0EECu"
      },
      "execution_count": 64,
      "outputs": []
    },
    {
      "cell_type": "code",
      "source": [
        "# Display updated immunization table\n",
        "print(df_immunization.head())\n"
      ],
      "metadata": {
        "colab": {
          "base_uri": "https://localhost:8080/"
        },
        "id": "sPmLGfNgEHao",
        "outputId": "51d22fa7-b665-42ee-b083-7d75dcfc9e0c"
      },
      "execution_count": 65,
      "outputs": [
        {
          "output_type": "stream",
          "name": "stdout",
          "text": [
            "                       DATE                               PATIENT  \\\n",
            "0 2024-11-18 05:48:28+00:00  c6d2798d-4d1b-0502-cfef-0debc0025fd3   \n",
            "1 2024-12-23 05:48:28+00:00  c6d2798d-4d1b-0502-cfef-0debc0025fd3   \n",
            "2 2025-02-24 05:48:28+00:00  c6d2798d-4d1b-0502-cfef-0debc0025fd3   \n",
            "3 2025-02-24 05:48:28+00:00  c6d2798d-4d1b-0502-cfef-0debc0025fd3   \n",
            "4 2025-02-24 05:48:28+00:00  c6d2798d-4d1b-0502-cfef-0debc0025fd3   \n",
            "\n",
            "                              ENCOUNTER  CODE                     DESCRIPTION  \\\n",
            "0  0eeb72f2-4b5b-2743-6dc3-7e9cb896b4cb     8  Hep B  adolescent or pediatric   \n",
            "1  cd0c5137-b827-8054-749f-f49a85d2a519     8  Hep B  adolescent or pediatric   \n",
            "2  0e52500e-857e-7bfb-09ce-ffb159463a04    49                   Hib (PRP-OMP)   \n",
            "3  0e52500e-857e-7bfb-09ce-ffb159463a04   119           rotavirus  monovalent   \n",
            "4  0e52500e-857e-7bfb-09ce-ffb159463a04    10                             IPV   \n",
            "\n",
            "   BASE_COST Vaccinated  \n",
            "0      136.0         No  \n",
            "1      136.0         No  \n",
            "2      136.0         No  \n",
            "3      136.0         No  \n",
            "4      136.0         No  \n"
          ]
        }
      ]
    },
    {
      "cell_type": "code",
      "source": [
        "df_immunization.to_csv('/content/immunizations_with_vaccination_status.csv', index=False)\n",
        "\n",
        "print(\"Updated immunizations dataset saved.\")\n",
        "\n"
      ],
      "metadata": {
        "colab": {
          "base_uri": "https://localhost:8080/"
        },
        "id": "f71r1nuEEaVD",
        "outputId": "90089009-81e1-498b-e415-8aec66f32a6a"
      },
      "execution_count": 66,
      "outputs": [
        {
          "output_type": "stream",
          "name": "stdout",
          "text": [
            "Updated immunizations dataset saved.\n"
          ]
        }
      ]
    },
    {
      "cell_type": "code",
      "source": [
        "# Ensure DATE column has no timezone issues\n",
        "df_immunization['DATE'] = df_immunization['DATE'].dt.tz_localize(None)\n",
        "\n",
        "# Define a reference date for forecasting\n",
        "comparison_date = pd.to_datetime('2022-12-31')\n",
        "\n",
        "# Filter for recent vaccination records (last 3 years)\n",
        "recent_vaccination_records = df_immunization[df_immunization['DATE'] > comparison_date - pd.DateOffset(years=3)]\n",
        "print(f\" {len(recent_vaccination_records)} recent vaccination records found.\")"
      ],
      "metadata": {
        "colab": {
          "base_uri": "https://localhost:8080/"
        },
        "id": "SD3yI-N-Er83",
        "outputId": "9e692d38-19ca-42b4-a341-1ae85b13dedf"
      },
      "execution_count": 67,
      "outputs": [
        {
          "output_type": "stream",
          "name": "stdout",
          "text": [
            " 44904 recent vaccination records found.\n"
          ]
        }
      ]
    },
    {
      "cell_type": "code",
      "source": [
        "# Convert dates to proper format\n",
        "df_patient['BIRTHDATE'] = pd.to_datetime(df_patient['BIRTHDATE'])\n",
        "df_patient['DEATHDATE'] = pd.to_datetime(df_patient['DEATHDATE'])\n",
        "df_immunization['DATE'] = pd.to_datetime(df_immunization['DATE'])\n",
        "\n",
        "# Check for invalid birthdates (future dates)\n",
        "invalid_birthdates = df_patient[df_patient['BIRTHDATE'] > pd.to_datetime('2025-02-09')]\n",
        "if not invalid_birthdates.empty:\n",
        "    print(\"Invalid birthdates found:\", invalid_birthdates)\n",
        "\n",
        "# Calculate age (handling both living and deceased patients)\n",
        "today = pd.Timestamp(\"2025-02-09\")  # Considering today's date as Feb 9, 2025\n",
        "df_patient['Age'] = df_patient.apply(\n",
        "    lambda row: (row['DEATHDATE'] - row['BIRTHDATE']).days // 365 if pd.notnull(row['DEATHDATE'])\n",
        "    else (today - row['BIRTHDATE']).days // 365, axis=1\n",
        ")\n",
        "\n",
        "print(\"Patient ages calculated successfully.\")"
      ],
      "metadata": {
        "colab": {
          "base_uri": "https://localhost:8080/"
        },
        "id": "2w6MI-SUEsSG",
        "outputId": "bc3df63f-2108-4ba3-dec0-14aafb8ea6e0"
      },
      "execution_count": 68,
      "outputs": [
        {
          "output_type": "stream",
          "name": "stdout",
          "text": [
            "Invalid birthdates found:                                         Id  BIRTHDATE DEATHDATE          SSN  \\\n",
            "11    c9f32bc3-42f5-8847-acf5-8f1b82cc9966 2025-03-12       NaT  999-10-7733   \n",
            "376   88d2deb6-3715-85d0-645a-390552861979 2025-02-22       NaT  999-82-7158   \n",
            "556   4206141c-90f3-344c-f8a9-92a7ecc4b631 2025-03-09       NaT  999-80-8554   \n",
            "967   7a78f944-f64d-1a96-2759-ecc1ad179005 2025-02-27       NaT  999-10-7256   \n",
            "1146  7f442065-2fc6-8e91-3d63-f7a6d237bfff 2025-02-13       NaT  999-16-6907   \n",
            "2395  24650ecf-2ba6-b79b-942a-e2b9719d6ade 2025-03-09       NaT  999-75-3046   \n",
            "2691  e38aff59-2240-c101-c780-8801d9a3b5fd 2025-03-13       NaT  999-54-3699   \n",
            "4971  bf0c5ed3-521e-9c3e-e3a5-bff8947a2bfb 2025-02-26       NaT  999-99-6283   \n",
            "\n",
            "     DRIVERS PASSPORT PREFIX       FIRST        MIDDLE          LAST  ...  \\\n",
            "11       NaN      NaN    NaN    Malik994     Josiah310     Hamill307  ...   \n",
            "376      NaN      NaN    NaN   Merrie964      Lavonia8   Shanahan202  ...   \n",
            "556      NaN      NaN    NaN    Oscar384    Randell912  Jaskolski867  ...   \n",
            "967      NaN      NaN    NaN    Felix524  Filiberto722     Sporer811  ...   \n",
            "1146     NaN      NaN    NaN  Linette249      Dusti191    Denesik803  ...   \n",
            "2395     NaN      NaN    NaN    Doyle959       Erin498    Pacocha935  ...   \n",
            "2691     NaN      NaN    NaN   Carmen818    Claudia969    Partida347  ...   \n",
            "4971     NaN      NaN    NaN  Julieta402      Sandi885     Nienow652  ...   \n",
            "\n",
            "           STATE                COUNTY    FIPS    ZIP        LAT         LON  \\\n",
            "11    California    Los Angeles County  6037.0  90042  34.134701 -118.214921   \n",
            "376   California      Riverside County  6065.0  92563  33.654132 -117.266485   \n",
            "556   California     San Benito County  6069.0  95045  36.890134 -121.367846   \n",
            "967   California  San Francisco County  6075.0  94130  37.726802 -122.504067   \n",
            "1146  California      Riverside County  6065.0  92507  33.921925 -117.313143   \n",
            "2395  California      San Diego County  6073.0  92040  32.889644 -116.847555   \n",
            "2691  California    Los Angeles County  6037.0  91331  34.235173 -118.501175   \n",
            "4971  California     Santa Cruz County     NaN      0  36.976131 -121.700921   \n",
            "\n",
            "     HEALTHCARE_EXPENSES HEALTHCARE_COVERAGE  INCOME Age  \n",
            "11                402.69                0.00   70636  -1  \n",
            "376              1603.69                0.00   94555  -1  \n",
            "556               985.50                0.00   51194  -1  \n",
            "967               702.94                0.00  139390  -1  \n",
            "1146              100.00              760.78    1884  -1  \n",
            "2395              100.00             1503.69    4275  -1  \n",
            "2691              402.69                0.00   73599  -1  \n",
            "4971              100.00              302.69   45591  -1  \n",
            "\n",
            "[8 rows x 29 columns]\n",
            "Patient ages calculated successfully.\n"
          ]
        }
      ]
    },
    {
      "cell_type": "code",
      "source": [
        "df_patient.loc[df_patient['BIRTHDATE'] > pd.to_datetime('2025-02-09'), 'BIRTHDATE'] = pd.NaT\n",
        "\n",
        "invalid_birthdates_before = df_patient[df_patient['BIRTHDATE'] > pd.to_datetime('2025-02-09')]\n",
        "print(f\"Invalid birthdates before replacing: {len(invalid_birthdates_before)}\")\n",
        "\n",
        "print(df_patient['BIRTHDATE'].head())  # Check the first few rows to ensure they're in the correct datetime format\n",
        "\n"
      ],
      "metadata": {
        "colab": {
          "base_uri": "https://localhost:8080/"
        },
        "id": "pWrFGu6zFB8-",
        "outputId": "c4b78b27-4f8b-4ad3-a0db-cc1d4ea05ccc"
      },
      "execution_count": 69,
      "outputs": [
        {
          "output_type": "stream",
          "name": "stdout",
          "text": [
            "Invalid birthdates before replacing: 0\n",
            "0   2024-11-17\n",
            "1   1987-05-25\n",
            "2   2017-04-08\n",
            "3   2006-10-14\n",
            "4   1977-07-22\n",
            "Name: BIRTHDATE, dtype: datetime64[ns]\n"
          ]
        }
      ]
    },
    {
      "cell_type": "code",
      "source": [
        "# Data Cleaning: Validating and replacing invalid values\n",
        "valid_genders = {\"M\", \"F\"}\n",
        "valid_ethnicities = {\"hispanic\", \"nonhispanic\"}\n",
        "valid_races = {\"white\", \"black\", \"asian\", \"hawaiian\", \"native\", \"other\"}\n",
        "\n",
        "# Normalize text: strip spaces & convert to lowercase\n",
        "df_patient['GENDER'] = df_patient['GENDER'].str.strip().str.upper()\n",
        "df_patient['ETHNICITY'] = df_patient['ETHNICITY'].str.strip().str.lower()\n",
        "df_patient['RACE'] = df_patient['RACE'].str.strip().str.lower()\n",
        "\n",
        "# Replace invalid values\n",
        "df_patient['GENDER'] = df_patient['GENDER'].apply(lambda x: x if x in valid_genders else \"NA\")\n",
        "df_patient['ETHNICITY'] = df_patient['ETHNICITY'].apply(lambda x: x if x in valid_ethnicities else \"NA\")\n",
        "df_patient['RACE'] = df_patient['RACE'].apply(lambda x: x if x in valid_races else \"NA\")\n",
        "\n",
        "# Print unique values after cleaning\n",
        "print(\"Unique Gender Values After:\", df_patient['GENDER'].unique())\n",
        "print(\"Unique Ethnicity Values After:\", df_patient['ETHNICITY'].unique())\n",
        "print(\"Unique Race Values After:\", df_patient['RACE'].unique())"
      ],
      "metadata": {
        "colab": {
          "base_uri": "https://localhost:8080/"
        },
        "id": "XxHUeOrXFIIn",
        "outputId": "ee2b8287-d560-4447-d2ee-525cacb472d2"
      },
      "execution_count": 70,
      "outputs": [
        {
          "output_type": "stream",
          "name": "stdout",
          "text": [
            "Unique Gender Values After: ['M' 'F']\n",
            "Unique Ethnicity Values After: ['nonhispanic' 'hispanic']\n",
            "Unique Race Values After: ['white' 'black' 'asian' 'native' 'other' 'hawaiian']\n"
          ]
        }
      ]
    },
    {
      "cell_type": "code",
      "source": [
        "print(df_patient.head())  # Check the first few rows to ensure 'Age' is in the DataFrame\n"
      ],
      "metadata": {
        "colab": {
          "base_uri": "https://localhost:8080/"
        },
        "id": "O7ElD6m9FSxM",
        "outputId": "3a8981b9-9e3c-4e70-e399-9bf91b626437"
      },
      "execution_count": 71,
      "outputs": [
        {
          "output_type": "stream",
          "name": "stdout",
          "text": [
            "                                     Id  BIRTHDATE DEATHDATE          SSN  \\\n",
            "0  c6d2798d-4d1b-0502-cfef-0debc0025fd3 2024-11-17       NaT  999-29-6945   \n",
            "1  9dfd800a-fc1a-a34c-4289-456f9e777681 1987-05-25       NaT  999-81-7862   \n",
            "2  3f245704-5e44-3fb8-29a7-d9058fa81b63 2017-04-08       NaT  999-11-7365   \n",
            "3  d21ef4b9-5d60-0f59-eef5-ab38ad689b11 2006-10-14       NaT  999-85-3245   \n",
            "4  c632e6e6-e33b-1560-17df-a6c0be6dd455 1977-07-22       NaT  999-94-8597   \n",
            "\n",
            "     DRIVERS    PASSPORT PREFIX       FIRST    MIDDLE        LAST  ...  \\\n",
            "0        NaN         NaN    NaN  Emanuel231       NaN  Goldner995  ...   \n",
            "1  S99948590  X21645731X    Mr.   Gaston250  Lyman173   Jacobi462  ...   \n",
            "2        NaN         NaN    NaN   German382    Dee580      Kuhn96  ...   \n",
            "3  S99962754         NaN    Ms.  Maryann106  Retta782    Ebert178  ...   \n",
            "4  S99956168  X77064461X   Mrs.     Yael855       NaN   Willms744  ...   \n",
            "\n",
            "        STATE              COUNTY    FIPS    ZIP        LAT         LON  \\\n",
            "0  California    Riverside County  6065.0  92582  33.718189 -117.076694   \n",
            "1  California   Stanislaus County  6099.0  95356  37.593570 -121.082078   \n",
            "2  California  Los Angeles County  6037.0  90278  33.832632 -118.403042   \n",
            "3  California    Riverside County  6065.0  92543  33.674391 -116.933113   \n",
            "4  California       Orange County  6059.0  92705  33.785967 -117.827939   \n",
            "\n",
            "  HEALTHCARE_EXPENSES HEALTHCARE_COVERAGE  INCOME Age  \n",
            "0              100.00             1712.46   22243   0  \n",
            "1             7532.02           367182.25    7346  37  \n",
            "2            26325.53             6381.45  926709   7  \n",
            "3            48432.72           262700.69   94268  18  \n",
            "4            17262.59          1154125.43   23069  47  \n",
            "\n",
            "[5 rows x 29 columns]\n"
          ]
        }
      ]
    },
    {
      "cell_type": "code",
      "source": [
        "print(df_patient.shape)  # Compare row count before and after cleaning\n"
      ],
      "metadata": {
        "colab": {
          "base_uri": "https://localhost:8080/"
        },
        "id": "-Rk2_l_nFVGe",
        "outputId": "c2f85d56-69c3-4cb5-c0a9-383de99b7bfc"
      },
      "execution_count": 72,
      "outputs": [
        {
          "output_type": "stream",
          "name": "stdout",
          "text": [
            "(5674, 29)\n"
          ]
        }
      ]
    },
    {
      "cell_type": "code",
      "source": [
        "import pandas as pd\n",
        "\n",
        "# Replace invalid age entries (-1) with NaN\n",
        "df_patient['Age'] = df_patient['Age'].replace(-1, pd.NA)\n",
        "df_patient['Age'] = df_patient['Age'].apply(lambda x: pd.NA if pd.notna(x) and x > 110 else x)\n",
        "\n",
        "# Define meaningful age bins and labels for analysis\n",
        "age_bins = [0, 18, 30, 50, 70, 110]\n",
        "age_labels = ['0-17', '18-29', '30-49', '50-69', '70+']\n",
        "df_patient['AGE_GROUP'] = pd.cut(df_patient['Age'].dropna(), bins=age_bins, labels=age_labels, right=False)\n",
        "\n",
        "# Debug: Print unique immunization codes to verify\n",
        "print(\"Unique immunization codes:\", df_immunization['CODE'].unique())\n",
        "\n",
        "# Update target vaccines with new numeric codes\n",
        "# Define target vaccines as a set of numeric values from your dataset\n",
        "target_vaccines = {88, 118, 135, 140, 150, 155, 160, 165}  # Use correct numeric values from your dataset\n",
        "\n",
        "# Identify patients who received at least one of the target vaccines\n",
        "vaccinated_patients = df_immunization[df_immunization['CODE'].isin(target_vaccines)]['PATIENT'].unique()\n",
        "\n",
        "# Add \"VACCINATED\" column to df_patient (Yes/No)\n",
        "df_patient['VACCINATED'] = df_patient['Id'].apply(lambda x: 'Yes' if x in vaccinated_patients else 'No')\n",
        "\n",
        "# Identify unvaccinated groups (those with no target vaccine records)\n",
        "unvaccinated_groups = df_patient[df_patient['VACCINATED'] == 'No']\n",
        "unvaccinated_counts = unvaccinated_groups.groupby(['AGE_GROUP', 'GENDER', 'RACE', 'ETHNICITY']).size().reset_index(name='Count')\n",
        "\n",
        "# Grouping by demographics and vaccination status for percentages\n",
        "age_vaccination = df_patient.groupby('AGE_GROUP')['VACCINATED'].value_counts().unstack().fillna(0)\n",
        "# (Similarly for gender_vaccination, race_vaccination, etc.)\n",
        "\n",
        "# Function to calculate under-immunized percentages\n",
        "def calculate_under_immunized_percent(vaccination_df, threshold):\n",
        "    if 'No' in vaccination_df.columns and 'Yes' in vaccination_df.columns:\n",
        "        vaccination_df['Under-immunized %'] = (vaccination_df['No'] / (vaccination_df['No'] + vaccination_df['Yes'])) * 100\n",
        "    elif 'No' in vaccination_df.columns:\n",
        "        vaccination_df['Under-immunized %'] = 100.0\n",
        "    elif 'Yes' in vaccination_df.columns:\n",
        "        vaccination_df['Under-immunized %'] = 0.0\n",
        "    else:\n",
        "        vaccination_df['Under-immunized %'] = 0.0\n",
        "\n"
      ],
      "metadata": {
        "colab": {
          "base_uri": "https://localhost:8080/"
        },
        "id": "vnvz3PnLFXoP",
        "outputId": "0ec183ef-b8e0-4c3a-8a18-c927a134a987"
      },
      "execution_count": 73,
      "outputs": [
        {
          "output_type": "stream",
          "name": "stdout",
          "text": [
            "Unique immunization codes: [  8  49 119  10  20 133 140 113 208  21   3  83 115  62 114  52  43 207\n",
            " 121  33 212 187]\n"
          ]
        },
        {
          "output_type": "stream",
          "name": "stderr",
          "text": [
            "<ipython-input-73-8aff5a9c290f>:27: FutureWarning: The default of observed=False is deprecated and will be changed to True in a future version of pandas. Pass observed=False to retain current behavior or observed=True to adopt the future default and silence this warning.\n",
            "  unvaccinated_counts = unvaccinated_groups.groupby(['AGE_GROUP', 'GENDER', 'RACE', 'ETHNICITY']).size().reset_index(name='Count')\n",
            "<ipython-input-73-8aff5a9c290f>:30: FutureWarning: The default of observed=False is deprecated and will be changed to True in a future version of pandas. Pass observed=False to retain current behavior or observed=True to adopt the future default and silence this warning.\n",
            "  age_vaccination = df_patient.groupby('AGE_GROUP')['VACCINATED'].value_counts().unstack().fillna(0)\n"
          ]
        }
      ]
    },
    {
      "cell_type": "markdown",
      "source": [
        "Our analysis revealed that a large proportion of patients from the datset remain under-immunized for the targeted vaccines. where 60% of children under 18 have received at least one target vaccine, nearly 100% of patients in the 18-29 and 30-49 age groups are under-immunized. Even in older groups, under-immunization is high (83% for ages 50-69 and 70% for ages 70+). So this clearly indicatea that there are significant gaps in vaccine coverage that need to be addressed through targeted public health initiatives."
      ],
      "metadata": {
        "id": "SNttkTgfG1ue"
      }
    },
    {
      "cell_type": "code",
      "source": [
        "print(df_immunization['CODE'].unique())\n"
      ],
      "metadata": {
        "colab": {
          "base_uri": "https://localhost:8080/"
        },
        "id": "aPAcYobpLyYT",
        "outputId": "32f82677-6203-41d5-9ace-9eddf29fea10"
      },
      "execution_count": 74,
      "outputs": [
        {
          "output_type": "stream",
          "name": "stdout",
          "text": [
            "[  8  49 119  10  20 133 140 113 208  21   3  83 115  62 114  52  43 207\n",
            " 121  33 212 187]\n"
          ]
        }
      ]
    },
    {
      "cell_type": "markdown",
      "source": [
        "These numbers are unique identifiers used in the Synthea immunizations dataset to represent different vaccines. Instead of text names, the dataset uses these numeric codes to maintain consistency and simplicity in data storage and processing. When analyzing the data, we reference these codes to identify which vaccine was administered"
      ],
      "metadata": {
        "id": "hCihSdC2Nhkj"
      }
    },
    {
      "cell_type": "code",
      "source": [
        "# Drop unnecessary columns efficiently\n",
        "columns_to_drop = ['SSN', 'DRIVERS', 'PASSPORT', 'PREFIX', 'SUFFIX', 'FIRST', 'MIDDLE', 'LAST',\n",
        "                   'MAIDEN', 'MARITAL', 'ADDRESS', 'FIPS', 'ZIP', 'LAT', 'LON',\n",
        "                   'HEALTHCARE_EXPENSES', 'HEALTHCARE_COVERAGE', 'INCOME', 'ENCOUNTER', 'BASE_COST']"
      ],
      "metadata": {
        "id": "CP2noIy3rqQf"
      },
      "execution_count": 90,
      "outputs": []
    },
    {
      "cell_type": "code",
      "source": [
        "import pandas as pd\n",
        "\n",
        "# Replace invalid age entries (-1) with NaN\n",
        "df_patient['Age'] = df_patient['Age'].replace(-1, pd.NA)\n",
        "\n",
        "# Handle any other invalid outliers (ages above 110)\n",
        "df_patient['Age'] = df_patient['Age'].apply(lambda x: pd.NA if pd.notna(x) and x > 110 else x)\n",
        "\n",
        "# Define meaningful age bins and labels for analysis\n",
        "age_bins = [0, 18, 30, 50, 70, 110]  # Adjust bins as needed\n",
        "age_labels = ['0-17', '18-29', '30-49', '50-69', '70+']\n",
        "df_patient['AGE_GROUP'] = pd.cut(df_patient['Age'].dropna(), bins=age_bins, labels=age_labels, right=False)\n",
        "\n",
        "# Debug: Print unique immunization codes to verify correct mappings\n",
        "print(\"Unique immunization codes:\", df_immunization['CODE'].unique())\n",
        "\n",
        "# Define the specific target vaccines using numeric codes\n",
        "# Define target vaccines as a set of numeric values from your dataset\n",
        "target_vaccines = {88, 118, 135, 140, 150, 155, 160, 165} # Update these numbers as per your dataset\n",
        "\n",
        "# Identify patients who received at least one of the target vaccines\n",
        "vaccinated_patients = df_immunization[df_immunization['CODE'].isin(target_vaccines)]['PATIENT'].unique()\n",
        "\n",
        "# Add \"VACCINATED\" column to df_patient (Boolean: True/False)\n",
        "df_patient['VACCINATED'] = df_patient['Id'].isin(vaccinated_patients)\n",
        "\n",
        "# Merge patient data with immunization records to identify under-vaccinated patients\n",
        "under_vaccinated = df_patient.merge(df_immunization, left_on='Id', right_on='PATIENT', how='left', indicator=True)\n",
        "\n",
        "df_patient.drop(columns=columns_to_drop, errors='ignore', inplace=True)\n",
        "\n",
        "\n",
        "# Drop unnecessary columns efficiently\n",
        "columns_to_drop = ['SSN', 'DRIVERS', 'PASSPORT', 'PREFIX', 'SUFFIX', 'FIRST', 'MIDDLE', 'LAST',\n",
        "                   'MAIDEN', 'MARITAL', 'ADDRESS', 'FIPS', 'ZIP', 'LAT', 'LON',\n",
        "                   'HEALTHCARE_EXPENSES', 'HEALTHCARE_COVERAGE', 'INCOME', 'ENCOUNTER', 'BASE_COST']\n",
        "\n",
        "# Identify unvaccinated groups (those with no target vaccine records)\n",
        "unvaccinated_groups = under_vaccinated[under_vaccinated['_merge'] == 'left_only']\n",
        "unvaccinated_counts = unvaccinated_groups.groupby(['AGE_GROUP', 'GENDER', 'RACE', 'ETHNICITY']).size().reset_index(name='Count')\n",
        "\n",
        "# Grouping by demographics and vaccination status for percentages\n",
        "age_vaccination = df_patient.groupby('AGE_GROUP')['VACCINATED'].value_counts().unstack().fillna(0)\n",
        "gender_vaccination = df_patient.groupby('GENDER')['VACCINATED'].value_counts().unstack().fillna(0)\n",
        "race_vaccination = df_patient.groupby('RACE')['VACCINATED'].value_counts().unstack().fillna(0)\n",
        "ethnicity_vaccination = df_patient.groupby('ETHNICITY')['VACCINATED'].value_counts().unstack().fillna(0)\n",
        "city_vaccination = df_patient.groupby('CITY')['VACCINATED'].value_counts().unstack().fillna(0)\n",
        "\n",
        "# Function to calculate under-immunized percentages\n",
        "def calculate_under_immunized_percent(vaccination_df):\n",
        "    if False in vaccination_df.columns and True in vaccination_df.columns:\n",
        "        vaccination_df['Under-immunized %'] = (vaccination_df[False] / (vaccination_df[False] + vaccination_df[True])) * 100\n",
        "    elif False in vaccination_df.columns:\n",
        "        vaccination_df['Under-immunized %'] = 100.0\n",
        "    elif True in vaccination_df.columns:\n",
        "        vaccination_df['Under-immunized %'] = 0.0\n",
        "    else:\n",
        "        vaccination_df['Under-immunized %'] = 0.0\n",
        "    return vaccination_df[['Under-immunized %']].round(2)\n",
        "\n",
        "age_vaccination = calculate_under_immunized_percent(age_vaccination)\n",
        "gender_vaccination = calculate_under_immunized_percent(gender_vaccination)\n",
        "race_vaccination = calculate_under_immunized_percent(race_vaccination)\n",
        "ethnicity_vaccination = calculate_under_immunized_percent(ethnicity_vaccination)\n",
        "city_vaccination = calculate_under_immunized_percent(city_vaccination)\n",
        "\n",
        "# Display results\n",
        "print(\"Under-vaccinated patient counts by Age, Gender, Race, and Ethnicity:\\n\", unvaccinated_counts)\n",
        "\n",
        "print(\"\\nUnder-immunized groups by Age:\")\n",
        "print(age_vaccination)\n",
        "\n",
        "print(\"\\nUnder-immunized groups by Gender:\")\n",
        "print(gender_vaccination)\n",
        "\n",
        "print(\"\\nUnder-immunized groups by Race:\")\n",
        "print(race_vaccination)\n",
        "\n",
        "print(\"\\nUnder-immunized groups by Ethnicity:\")\n",
        "print(ethnicity_vaccination)\n",
        "\n",
        "print(\"\\nUnder-immunized groups by City:\")\n",
        "print(city_vaccination)\n"
      ],
      "metadata": {
        "id": "y1bz1GUlPIMy",
        "outputId": "a268e23e-f35e-4ef5-a901-417982d59d1a",
        "colab": {
          "base_uri": "https://localhost:8080/"
        }
      },
      "execution_count": 96,
      "outputs": [
        {
          "output_type": "stream",
          "name": "stdout",
          "text": [
            "Unique immunization codes: [  8  49 119  10  20 133 140 113 208  21   3  83 115  62 114  52  43 207\n",
            " 121  33 212 187]\n",
            "Under-vaccinated patient counts by Age, Gender, Race, and Ethnicity:\n",
            "    AGE_GROUP GENDER    RACE    ETHNICITY  Count\n",
            "0       0-17      M   asian  nonhispanic      1\n",
            "1       0-17      M   black  nonhispanic      1\n",
            "2       0-17      M  native  nonhispanic      0\n",
            "3       0-17      M   white  nonhispanic      0\n",
            "4      18-29      M   asian  nonhispanic      0\n",
            "5      18-29      M   black  nonhispanic      0\n",
            "6      18-29      M  native  nonhispanic      1\n",
            "7      18-29      M   white  nonhispanic      1\n",
            "8      30-49      M   asian  nonhispanic      0\n",
            "9      30-49      M   black  nonhispanic      0\n",
            "10     30-49      M  native  nonhispanic      0\n",
            "11     30-49      M   white  nonhispanic      0\n",
            "12     50-69      M   asian  nonhispanic      0\n",
            "13     50-69      M   black  nonhispanic      0\n",
            "14     50-69      M  native  nonhispanic      0\n",
            "15     50-69      M   white  nonhispanic      0\n",
            "16       70+      M   asian  nonhispanic      0\n",
            "17       70+      M   black  nonhispanic      0\n",
            "18       70+      M  native  nonhispanic      0\n",
            "19       70+      M   white  nonhispanic      0\n",
            "\n",
            "Under-immunized groups by Age:\n",
            "VACCINATED  Under-immunized %\n",
            "AGE_GROUP                    \n",
            "0-17                     3.55\n",
            "18-29                    0.22\n",
            "30-49                    0.00\n",
            "50-69                    0.00\n",
            "70+                      0.00\n",
            "\n",
            "Under-immunized groups by Gender:\n",
            "VACCINATED  Under-immunized %\n",
            "GENDER                       \n",
            "F                        0.89\n",
            "M                        1.09\n",
            "\n",
            "Under-immunized groups by Race:\n",
            "VACCINATED  Under-immunized %\n",
            "RACE                         \n",
            "asian                    0.87\n",
            "black                    1.32\n",
            "hawaiian                 0.83\n",
            "native                   1.04\n",
            "other                    0.00\n",
            "white                    1.01\n",
            "\n",
            "Under-immunized groups by Ethnicity:\n",
            "VACCINATED   Under-immunized %\n",
            "ETHNICITY                     \n",
            "hispanic                  0.90\n",
            "nonhispanic               1.04\n",
            "\n",
            "Under-immunized groups by City:\n",
            "VACCINATED      Under-immunized %\n",
            "CITY                             \n",
            "Acton                         0.0\n",
            "Adelanto                      0.0\n",
            "Agoura Hills                  0.0\n",
            "Alameda                       0.0\n",
            "Alamo                         0.0\n",
            "...                           ...\n",
            "Yosemite Lakes                0.0\n",
            "Yuba City                     0.0\n",
            "Yucaipa                       0.0\n",
            "Yucca Valley                  0.0\n",
            "Zayante                       0.0\n",
            "\n",
            "[697 rows x 1 columns]\n"
          ]
        },
        {
          "output_type": "stream",
          "name": "stderr",
          "text": [
            "<ipython-input-96-750d1616fc6c>:40: FutureWarning: The default of observed=False is deprecated and will be changed to True in a future version of pandas. Pass observed=False to retain current behavior or observed=True to adopt the future default and silence this warning.\n",
            "  unvaccinated_counts = unvaccinated_groups.groupby(['AGE_GROUP', 'GENDER', 'RACE', 'ETHNICITY']).size().reset_index(name='Count')\n",
            "<ipython-input-96-750d1616fc6c>:43: FutureWarning: The default of observed=False is deprecated and will be changed to True in a future version of pandas. Pass observed=False to retain current behavior or observed=True to adopt the future default and silence this warning.\n",
            "  age_vaccination = df_patient.groupby('AGE_GROUP')['VACCINATED'].value_counts().unstack().fillna(0)\n"
          ]
        }
      ]
    },
    {
      "cell_type": "markdown",
      "source": [
        "Here we have aalysed under-vaccinated groups based on demographics. For 0-17 age group we can see the highest under-immunization rate (3.55%), while older groups show near 0% under-vaccination. Males (1.09%) are slightly more under-vaccinated than females (0.89%). Among racial groups, Black (1.32%) and White (1.01%) populations have higher under-immunization rates, while other races remain below 1%. Non-Hispanics (1.04%) are slightly more under-vaccinated than Hispanics (0.90%). City-level analysis shows most locations have 0% under-immunization, indicating high vaccination coverage in most areas."
      ],
      "metadata": {
        "id": "HcXb965Chhh5"
      }
    },
    {
      "cell_type": "markdown",
      "source": [
        "**I analyzed under-vaccination based on demographics, including age, gender, race, ethnicity, and city. I checked whether patients received at least one of the target vaccines and calculated the percentage of people who were not vaccinated in each group. This helped identify which groups have higher under-immunization rates.**"
      ],
      "metadata": {
        "id": "Ia843HFNh1HA"
      }
    },
    {
      "cell_type": "code",
      "source": [
        "print(df_patient.columns.tolist())\n"
      ],
      "metadata": {
        "colab": {
          "base_uri": "https://localhost:8080/"
        },
        "id": "tFX8P1kotCIk",
        "outputId": "278e418e-b5a6-41ab-fc61-fbd9befc5068"
      },
      "execution_count": 97,
      "outputs": [
        {
          "output_type": "stream",
          "name": "stdout",
          "text": [
            "['Id', 'BIRTHDATE', 'DEATHDATE', 'RACE', 'ETHNICITY', 'GENDER', 'BIRTHPLACE', 'CITY', 'STATE', 'COUNTY', 'Age', 'AGE_GROUP', 'VACCINATED']\n"
          ]
        }
      ]
    },
    {
      "cell_type": "code",
      "source": [
        "# Import necessary libraries\n",
        "import pandas as pd\n",
        "import numpy as np  # Ensure numpy is imported\n",
        "import matplotlib.pyplot as plt\n",
        "from statsmodels.tsa.holtwinters import ExponentialSmoothing\n",
        "\n",
        "# Reset index and drop the existing index column (if any)\n",
        "df_immunization = df_immunization.reset_index(drop=True)\n",
        "\n",
        "# Convert 'DATE' to datetime\n",
        "df_immunization['DATE'] = pd.to_datetime(df_immunization['DATE'])\n",
        "\n",
        "# Ensure timezone consistency (localize if naive, then remove timezone)\n",
        "if df_immunization['DATE'].dt.tz is None:\n",
        "    df_immunization['DATE'] = df_immunization['DATE'].dt.tz_localize('UTC')\n",
        "\n",
        "df_immunization['DATE'] = df_immunization['DATE'].dt.tz_convert(None)\n",
        "\n",
        "# Filter records from 2020 to 2024\n",
        "start_date = pd.Timestamp(\"2020-01-01\")\n",
        "end_date = pd.Timestamp(\"2024-12-31\")\n",
        "\n",
        "vaccination_records = df_immunization[\n",
        "    (df_immunization['DATE'] >= start_date) &\n",
        "    (df_immunization['DATE'] <= end_date)\n",
        "]\n",
        "\n",
        "# Group by year and count the number of patients (vaccination trends)\n",
        "vaccination_trends = vaccination_records.groupby(vaccination_records['DATE'].dt.year)['PATIENT'].count()\n",
        "\n",
        "# Print summary\n",
        "print(f\"{len(vaccination_records)} vaccination records found between 2020-2024.\")\n",
        "print(\"Vaccination trends from 2020 to 2024:\\n\", vaccination_trends)\n",
        "\n",
        "# ------------------- Forecasting Next 5 Years (2025-2029) -------------------\n",
        "\n",
        "# Convert trends to time series format\n",
        "years = vaccination_trends.index.astype(int)  # Extracting years as integers\n",
        "values = vaccination_trends.values  # Vaccination counts\n",
        "\n",
        "# Create a time series DataFrame with proper datetime index\n",
        "ts_data = pd.DataFrame({'Year': years, 'Vaccinations': values})\n",
        "ts_data['Date'] = pd.to_datetime(ts_data['Year'], format='%Y')\n",
        "ts_data.set_index('Date', inplace=True)\n",
        "\n",
        "# Apply Exponential Smoothing for forecasting\n",
        "model = ExponentialSmoothing(ts_data['Vaccinations'], trend='add', seasonal=None, seasonal_periods=None)\n",
        "fit_model = model.fit()\n",
        "\n",
        "# Forecast for the next 5 years (2025-2029)\n",
        "forecast_values = fit_model.forecast(steps=5)\n",
        "\n",
        "# Ensure that the forecast years match the length of forecast values\n",
        "future_years = np.arange(2025, 2025 + len(forecast_values))\n",
        "\n",
        "# Create a DataFrame for the forecasted values\n",
        "forecast_df = pd.DataFrame({'Year': future_years, 'Forecasted_Vaccinations': forecast_values})\n",
        "forecast_df['Date'] = pd.to_datetime(forecast_df['Year'], format='%Y')\n",
        "forecast_df.set_index('Date', inplace=True)\n",
        "\n",
        "# Plot past trends and future forecast\n",
        "plt.figure(figsize=(10, 5))\n",
        "plt.plot(ts_data.index, ts_data['Vaccinations'], marker='o', label='Actual Vaccinations (2020-2024)')\n",
        "plt.plot(forecast_df.index, forecast_df['Forecasted_Vaccinations'], marker='o', linestyle='dashed', color='red', label='Forecasted Vaccinations (2025-2029)')\n",
        "plt.xlabel(\"Year\")\n",
        "plt.ylabel(\"Number of Vaccinations\")\n",
        "plt.title(\"Vaccination Trends & Forecast (2020-2029)\")\n",
        "plt.legend()\n",
        "plt.grid(True)\n",
        "plt.show()\n"
      ],
      "metadata": {
        "colab": {
          "base_uri": "https://localhost:8080/",
          "height": 733
        },
        "id": "ZTbFbRmGdsan",
        "outputId": "cab43e1c-fdd4-4c02-d73f-76a2055e7750"
      },
      "execution_count": 100,
      "outputs": [
        {
          "output_type": "stream",
          "name": "stdout",
          "text": [
            "43277 vaccination records found between 2020-2024.\n",
            "Vaccination trends from 2020 to 2024:\n",
            " DATE\n",
            "2020     7097\n",
            "2021    13571\n",
            "2022     7500\n",
            "2023     7467\n",
            "2024     7642\n",
            "Name: PATIENT, dtype: int64\n"
          ]
        },
        {
          "output_type": "stream",
          "name": "stderr",
          "text": [
            "/usr/local/lib/python3.11/dist-packages/statsmodels/tsa/base/tsa_model.py:473: ValueWarning: No frequency information was provided, so inferred frequency YS-JAN will be used.\n",
            "  self._init_dates(dates, freq)\n",
            "/usr/local/lib/python3.11/dist-packages/statsmodels/tsa/holtwinters/model.py:918: ConvergenceWarning: Optimization failed to converge. Check mle_retvals.\n",
            "  warnings.warn(\n"
          ]
        },
        {
          "output_type": "display_data",
          "data": {
            "text/plain": [
              "<Figure size 1000x500 with 1 Axes>"
            ],
            "image/png": "[encoded data removed]"
          },
          "metadata": {}
        }
      ]
    },
    {
      "cell_type": "code",
      "source": [
        "# Save the merged DataFrame to a CSV file\n",
        "df_patient.to_csv(\"under_vaccinated_analysis.csv\", index=False)\n",
        "\n",
        "print(\"CSV file saved successfully!\")\n"
      ],
      "metadata": {
        "colab": {
          "base_uri": "https://localhost:8080/"
        },
        "id": "FBSICO-YiWv2",
        "outputId": "46abea58-9309-48f4-fe56-2cc998aaa9d5"
      },
      "execution_count": 101,
      "outputs": [
        {
          "output_type": "stream",
          "name": "stdout",
          "text": [
            "CSV file saved successfully!\n"
          ]
        }
      ]
    },
    {
      "cell_type": "code",
      "source": [
        "from google.colab import files\n",
        "\n",
        "# Save the DataFrame to CSV\n",
        "df_patient.to_csv(\"under_vaccinated_analysis.csv\", index=False)\n",
        "\n",
        "# Download the file\n",
        "files.download(\"under_vaccinated_analysis.csv\")\n"
      ],
      "metadata": {
        "colab": {
          "base_uri": "https://localhost:8080/",
          "height": 17
        },
        "id": "6dIWWNHOic0i",
        "outputId": "81c396ff-b91a-4910-bfbd-3eafbed4f1ed"
      },
      "execution_count": 103,
      "outputs": [
        {
          "output_type": "display_data",
          "data": {
            "text/plain": [
              "<IPython.core.display.Javascript object>"
            ],
            "application/javascript": [
              "\n",
              "    async function download(id, filename, size) {\n",
              "      if (!google.colab.kernel.accessAllowed) {\n",
              "        return;\n",
              "      }\n",
              "      const div = document.createElement('div');\n",
              "      const label = document.createElement('label');\n",
              "      label.textContent = `Downloading \"${filename}\": `;\n",
              "      div.appendChild(label);\n",
              "      const progress = document.createElement('progress');\n",
              "      progress.max = size;\n",
              "      div.appendChild(progress);\n",
              "      document.body.appendChild(div);\n",
              "\n",
              "      const buffers = [];\n",
              "      let downloaded = 0;\n",
              "\n",
              "      const channel = await google.colab.kernel.comms.open(id);\n",
              "      // Send a message to notify the kernel that we're ready.\n",
              "      channel.send({})\n",
              "\n",
              "      for await (const message of channel.messages) {\n",
              "        // Send a message to notify the kernel that we're ready.\n",
              "        channel.send({})\n",
              "        if (message.buffers) {\n",
              "          for (const buffer of message.buffers) {\n",
              "            buffers.push(buffer);\n",
              "            downloaded += buffer.byteLength;\n",
              "            progress.value = downloaded;\n",
              "          }\n",
              "        }\n",
              "      }\n",
              "      const blob = new Blob(buffers, {type: 'application/binary'});\n",
              "      const a = document.createElement('a');\n",
              "      a.href = window.URL.createObjectURL(blob);\n",
              "      a.download = filename;\n",
              "      div.appendChild(a);\n",
              "      a.click();\n",
              "      div.remove();\n",
              "    }\n",
              "  "
            ]
          },
          "metadata": {}
        },
        {
          "output_type": "display_data",
          "data": {
            "text/plain": [
              "<IPython.core.display.Javascript object>"
            ],
            "application/javascript": [
              "download(\"download_cc249ad1-b708-4c46-9f89-ab4ce231add8\", \"under_vaccinated_analysis.csv\", 843192)"
            ]
          },
          "metadata": {}
        }
      ]
    }
  ]
}